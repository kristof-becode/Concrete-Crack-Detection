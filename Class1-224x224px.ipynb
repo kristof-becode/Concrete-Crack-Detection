{
 "cells": [
  {
   "cell_type": "markdown",
   "metadata": {},
   "source": [
    "## Train 'Class1' model on 224x224 px size instead of 150x150 px"
   ]
  },
  {
   "cell_type": "code",
   "execution_count": 7,
   "metadata": {},
   "outputs": [],
   "source": [
    "import numpy as np\n",
    "import matplotlib.pyplot as plt\n",
    "import tensorflow as tf\n",
    "from tensorflow import keras\n",
    "from tensorflow.keras.utils import to_categorical\n",
    "from tensorflow.keras.preprocessing.image import ImageDataGenerator\n",
    "from tensorflow.keras.layers.experimental.preprocessing import Rescaling, RandomFlip, RandomRotation\n",
    "from tensorflow.keras.models import Sequential, load_model, Model\n",
    "from tensorflow.keras.layers import Dense, Dropout, Flatten\n",
    "from tensorflow.keras.layers import Conv2D, MaxPooling2D\n",
    "from tensorflow.keras.layers import BatchNormalization\n",
    "from tensorflow.keras.layers import LeakyReLU\n",
    "\n",
    "\n",
    "#from sklearn.model_selection import train_test_split\n",
    "#from sklearn.metrics import classification_report"
   ]
  },
  {
   "cell_type": "code",
   "execution_count": 8,
   "metadata": {},
   "outputs": [
    {
     "name": "stdout",
     "output_type": "stream",
     "text": [
      "Found 40000 files belonging to 2 classes.\n",
      "Using 32000 files for training.\n",
      "Found 40000 files belonging to 2 classes.\n",
      "Using 8000 files for validation.\n"
     ]
    }
   ],
   "source": [
    "# Create two subsets, training and validation, of the 'Negative' and 'Positive' folders in the Training folder\n",
    "# state directory to create subsets from\n",
    "dir = '/home/becode/AI/Data/Skyebase/OpenSource' # 2 folders 'negative' and 'positive'\n",
    "# create 'training' subset\n",
    "\n",
    "# image size concrete pics = 227x227, I'll resize to 224x224 now(instead of 150x150) to hopefully het more acc on different datasets\n",
    "# 224x224 is also the input size of vggnet that I'll use later \n",
    "\n",
    "train_ds = tf.keras.preprocessing.image_dataset_from_directory(\n",
    "    dir,\n",
    "    labels=\"inferred\",\n",
    "    label_mode=\"binary\",\n",
    "    class_names=None,\n",
    "    color_mode=\"rgb\",\n",
    "    batch_size=32,\n",
    "    image_size=(224, 224),\n",
    "    shuffle=True,\n",
    "    seed=123,\n",
    "    validation_split=0.2,\n",
    "    subset=\"training\",\n",
    "    interpolation=\"bilinear\",\n",
    "    follow_links=False,\n",
    ")\n",
    "# create 'validation' subset, 20% of the total images for validation\n",
    "val_ds = tf.keras.preprocessing.image_dataset_from_directory(\n",
    "    dir,\n",
    "    labels=\"inferred\",\n",
    "    label_mode=\"binary\",\n",
    "    class_names=None,\n",
    "    color_mode=\"rgb\",\n",
    "    batch_size=32,\n",
    "    image_size=(224, 224),\n",
    "    shuffle=True,\n",
    "    seed=123,\n",
    "    validation_split=0.2,\n",
    "    subset=\"validation\",\n",
    "    interpolation=\"bilinear\",\n",
    "    follow_links=False,\n",
    ")\n"
   ]
  },
  {
   "cell_type": "code",
   "execution_count": 10,
   "metadata": {},
   "outputs": [],
   "source": [
    "# flip and rotate images to create more diversity in small dataset, 'data augmentation' !!!!\n",
    "data_augmentation = keras.Sequential(\n",
    "    [\n",
    "       RandomFlip(\"horizontal\"),\n",
    "        RandomRotation(0.1),\n",
    "    ]\n",
    ")\n",
    "\n",
    "augmented_train_ds = train_ds.map(lambda x, y: (data_augmentation(x, training=True), y))"
   ]
  },
  {
   "cell_type": "code",
   "execution_count": 13,
   "metadata": {},
   "outputs": [],
   "source": [
    "# prefetch to avoid I/O blocking\n",
    "train_ds = train_ds.prefetch(buffer_size=32)\n",
    "val_ds = val_ds.prefetch(buffer_size=32)\n",
    "\n",
    "# set params\n",
    "batch_size = 64\n",
    "epochs = 15 #30\n",
    "num_classes = 1 # O or 1"
   ]
  },
  {
   "cell_type": "code",
   "execution_count": 14,
   "metadata": {},
   "outputs": [],
   "source": [
    "# define model of Convolutional Neural Network\n",
    "model = Sequential()\n",
    "model.add(Rescaling(1./255, input_shape=(224,224,3))) # Rescaling is set up in the model itself !!!!!\n",
    "model.add(Conv2D(32, kernel_size=(3, 3),activation='linear',padding='same'))\n",
    "model.add(LeakyReLU(alpha=0.1)) # prevents blocked and non-active RELUs\n",
    "model.add(MaxPooling2D((2, 2),padding='same'))\n",
    "model.add(Dropout(0.25)) # DROPOUT layer\n",
    "model.add(Conv2D(64, (3, 3), activation='linear',padding='same'))\n",
    "model.add(LeakyReLU(alpha=0.1))\n",
    "model.add(MaxPooling2D(pool_size=(2, 2),padding='same'))\n",
    "model.add(Dropout(0.25))  # DROPOUT layer\n",
    "model.add(Conv2D(128, (3, 3), activation='linear',padding='same'))\n",
    "model.add(LeakyReLU(alpha=0.1))\n",
    "model.add(MaxPooling2D(pool_size=(2, 2),padding='same'))\n",
    "model.add(Dropout(0.4)) # DROPOUT layer\n",
    "model.add(Flatten())\n",
    "model.add(Dense(128, activation='linear'))\n",
    "model.add(LeakyReLU(alpha=0.1))\n",
    "model.add(Dropout(0.3)) # DROPOUT layer\n",
    "model.add(Dense(num_classes, activation='sigmoid'))\n"
   ]
  },
  {
   "cell_type": "code",
   "execution_count": 15,
   "metadata": {},
   "outputs": [
    {
     "name": "stdout",
     "output_type": "stream",
     "text": [
      "Model: \"sequential_5\"\n",
      "_________________________________________________________________\n",
      "Layer (type)                 Output Shape              Param #   \n",
      "=================================================================\n",
      "rescaling_2 (Rescaling)      (None, 150, 150, 3)       0         \n",
      "_________________________________________________________________\n",
      "conv2d_6 (Conv2D)            (None, 150, 150, 32)      896       \n",
      "_________________________________________________________________\n",
      "leaky_re_lu_8 (LeakyReLU)    (None, 150, 150, 32)      0         \n",
      "_________________________________________________________________\n",
      "max_pooling2d_6 (MaxPooling2 (None, 75, 75, 32)        0         \n",
      "_________________________________________________________________\n",
      "dropout_8 (Dropout)          (None, 75, 75, 32)        0         \n",
      "_________________________________________________________________\n",
      "conv2d_7 (Conv2D)            (None, 75, 75, 64)        18496     \n",
      "_________________________________________________________________\n",
      "leaky_re_lu_9 (LeakyReLU)    (None, 75, 75, 64)        0         \n",
      "_________________________________________________________________\n",
      "max_pooling2d_7 (MaxPooling2 (None, 38, 38, 64)        0         \n",
      "_________________________________________________________________\n",
      "dropout_9 (Dropout)          (None, 38, 38, 64)        0         \n",
      "_________________________________________________________________\n",
      "conv2d_8 (Conv2D)            (None, 38, 38, 128)       73856     \n",
      "_________________________________________________________________\n",
      "leaky_re_lu_10 (LeakyReLU)   (None, 38, 38, 128)       0         \n",
      "_________________________________________________________________\n",
      "max_pooling2d_8 (MaxPooling2 (None, 19, 19, 128)       0         \n",
      "_________________________________________________________________\n",
      "dropout_10 (Dropout)         (None, 19, 19, 128)       0         \n",
      "_________________________________________________________________\n",
      "flatten_2 (Flatten)          (None, 46208)             0         \n",
      "_________________________________________________________________\n",
      "dense_4 (Dense)              (None, 128)               5914752   \n",
      "_________________________________________________________________\n",
      "leaky_re_lu_11 (LeakyReLU)   (None, 128)               0         \n",
      "_________________________________________________________________\n",
      "dropout_11 (Dropout)         (None, 128)               0         \n",
      "_________________________________________________________________\n",
      "dense_5 (Dense)              (None, 1)                 129       \n",
      "=================================================================\n",
      "Total params: 6,008,129\n",
      "Trainable params: 6,008,129\n",
      "Non-trainable params: 0\n",
      "_________________________________________________________________\n",
      "None\n",
      "Epoch 1/15\n",
      "1000/1000 [==============================] - 1292s 1s/step - loss: 0.1624 - accuracy: 0.9240 - val_loss: 0.0409 - val_accuracy: 0.9886\n",
      "Epoch 2/15\n",
      "1000/1000 [==============================] - 1289s 1s/step - loss: 0.0402 - accuracy: 0.9885 - val_loss: 0.0204 - val_accuracy: 0.9927\n",
      "Epoch 3/15\n",
      "1000/1000 [==============================] - 1289s 1s/step - loss: 0.0308 - accuracy: 0.9914 - val_loss: 0.0222 - val_accuracy: 0.9927\n",
      "Epoch 4/15\n",
      "1000/1000 [==============================] - 1272s 1s/step - loss: 0.0259 - accuracy: 0.9916 - val_loss: 0.0211 - val_accuracy: 0.9924\n",
      "Epoch 5/15\n",
      "1000/1000 [==============================] - 1254s 1s/step - loss: 0.0201 - accuracy: 0.9938 - val_loss: 0.0183 - val_accuracy: 0.9939\n",
      "Epoch 6/15\n",
      "1000/1000 [==============================] - 1255s 1s/step - loss: 0.0266 - accuracy: 0.9926 - val_loss: 0.0297 - val_accuracy: 0.9904\n",
      "Epoch 7/15\n",
      "1000/1000 [==============================] - 1286s 1s/step - loss: 0.0159 - accuracy: 0.9958 - val_loss: 0.0373 - val_accuracy: 0.9879\n",
      "Epoch 8/15\n",
      "1000/1000 [==============================] - 1326s 1s/step - loss: 0.0416 - accuracy: 0.9905 - val_loss: 0.0279 - val_accuracy: 0.9912\n",
      "Epoch 9/15\n",
      "1000/1000 [==============================] - 1279s 1s/step - loss: 0.0155 - accuracy: 0.9955 - val_loss: 0.0253 - val_accuracy: 0.9936\n",
      "Epoch 10/15\n",
      "1000/1000 [==============================] - 1278s 1s/step - loss: 0.0166 - accuracy: 0.9959 - val_loss: 0.0186 - val_accuracy: 0.9948\n",
      "Epoch 11/15\n",
      "1000/1000 [==============================] - 1248s 1s/step - loss: 0.0100 - accuracy: 0.9971 - val_loss: 0.0168 - val_accuracy: 0.9955\n",
      "Epoch 12/15\n",
      "1000/1000 [==============================] - 1262s 1s/step - loss: 0.0108 - accuracy: 0.9973 - val_loss: 0.0221 - val_accuracy: 0.9956\n",
      "Epoch 13/15\n",
      "1000/1000 [==============================] - 1248s 1s/step - loss: 0.0171 - accuracy: 0.9959 - val_loss: 0.0203 - val_accuracy: 0.9955\n",
      "Epoch 14/15\n",
      "1000/1000 [==============================] - 1274s 1s/step - loss: 0.0093 - accuracy: 0.9975 - val_loss: 0.0222 - val_accuracy: 0.9950\n",
      "Epoch 15/15\n",
      "1000/1000 [==============================] - 1277s 1s/step - loss: 0.0214 - accuracy: 0.9954 - val_loss: 0.0293 - val_accuracy: 0.9934\n"
     ]
    }
   ],
   "source": [
    "# Compile model\n",
    "model.compile(loss='binary_crossentropy', optimizer=keras.optimizers.Adam(),metrics=['accuracy'])\n",
    "print(model.summary())\n",
    "\n",
    "# Train the model\n",
    "model_train_dropout = model.fit(train_ds, batch_size=batch_size,epochs=epochs,verbose=1,validation_data=val_ds)\n",
    "\n",
    "# Save the model and the weights!\n",
    "model.save(\"model_class1_224x224.h5\")"
   ]
  },
  {
   "cell_type": "code",
   "execution_count": 16,
   "metadata": {},
   "outputs": [
    {
     "name": "stdout",
     "output_type": "stream",
     "text": [
      "Test loss: 0.02929505705833435\n",
      "Test accuracy: 0.9933750033378601\n"
     ]
    },
    {
     "data": {
      "image/png": "[encoded data removed]",
      "text/plain": [
       "<Figure size 432x288 with 1 Axes>"
      ]
     },
     "metadata": {
      "needs_background": "light"
     },
     "output_type": "display_data"
    },
    {
     "data": {
      "image/png": "[encoded data removed]",
      "text/plain": [
       "<Figure size 432x288 with 1 Axes>"
      ]
     },
     "metadata": {
      "needs_background": "light"
     },
     "output_type": "display_data"
    }
   ],
   "source": [
    "### Model Evaluation on validation set\n",
    "# Evaluate Test set\n",
    "test_eval = model.evaluate(val_ds, verbose=0)\n",
    "print('Test loss:', test_eval[0])\n",
    "print('Test accuracy:', test_eval[1])\n",
    "\n",
    "# Plot accuracy and loss plots\n",
    "accuracy = model_train_dropout.history['accuracy']\n",
    "val_accuracy = model_train_dropout.history['val_accuracy']\n",
    "loss = model_train_dropout.history['loss']\n",
    "val_loss = model_train_dropout.history['val_loss']\n",
    "epochs = range(len(accuracy))\n",
    "plt.plot(epochs, accuracy, 'bo', label='Training accuracy')\n",
    "plt.plot(epochs, val_accuracy, 'b', label='Validation accuracy')\n",
    "plt.title('Training and validation accuracy')\n",
    "plt.legend()\n",
    "plt.figure()\n",
    "plt.plot(epochs, loss, 'bo', label='Training loss')\n",
    "plt.plot(epochs, val_loss, 'b', label='Validation loss')\n",
    "plt.title('Training and validation loss')\n",
    "plt.legend()\n",
    "plt.show()"
   ]
  },
  {
   "cell_type": "code",
   "execution_count": null,
   "metadata": {},
   "outputs": [],
   "source": []
  }
 ],
 "metadata": {
  "kernelspec": {
   "display_name": "skyebase",
   "language": "python",
   "name": "skyebase"
  },
  "language_info": {
   "codemirror_mode": {
    "name": "ipython",
    "version": 3
   },
   "file_extension": ".py",
   "mimetype": "text/x-python",
   "name": "python",
   "nbconvert_exporter": "python",
   "pygments_lexer": "ipython3",
   "version": "3.8.5"
  }
 },
 "nbformat": 4,
 "nbformat_minor": 4
}
