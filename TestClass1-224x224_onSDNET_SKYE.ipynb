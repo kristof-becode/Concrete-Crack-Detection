{
 "cells": [
  {
   "cell_type": "markdown",
   "metadata": {},
   "source": [
    "# Test Keras Model 'Class1-224x224' on SDNet and Skyebase data "
   ]
  },
  {
   "cell_type": "markdown",
   "metadata": {},
   "source": [
    "##  Extended Keras with img size 224x224 model from Tuesday on 2k images per SDNet folder and the positive extras from Skyebase "
   ]
  },
  {
   "cell_type": "code",
   "execution_count": 3,
   "metadata": {},
   "outputs": [],
   "source": [
    "import numpy as np\n",
    "import pandas as pd\n",
    "import matplotlib.pyplot as plt\n",
    "import tensorflow as tf\n",
    "from tensorflow import keras\n",
    "#from tensorflow.keras.utils import to_categorical\n",
    "from tensorflow.keras.preprocessing.image import ImageDataGenerator\n",
    "#from tensorflow.keras.layers.experimental.preprocessing import Rescaling, RandomFlip, RandomRotation\n",
    "from tensorflow.keras.models import Sequential, Model, load_model #, Input\n",
    "#from tensorflow.keras.layers import Dense, Dropout, Flatten\n",
    "#from tensorflow.keras.layers import Conv2D, MaxPooling2D\n",
    "#from tensorflow.keras.layers import BatchNormalization\n",
    "#from tensorflow.keras.layers import LeakyReLU\n",
    "#from tensorflow.keras.layers import experimental.preprocessing.Rescaling\n",
    "\n",
    "#from sklearn.model_selection import train_test_split\n",
    "#from sklearn.metrics import classification_report\n",
    "\n",
    "import os\n",
    "import re\n",
    "\n",
    "model = load_model(\"model_class1_224x224.h5\")\n",
    "# train folder(Kaggle Concrete surface crack Data): first 'negative', second 'positive' => \n",
    "# score will be positive crack, 1-score = score for not crack"
   ]
  },
  {
   "cell_type": "markdown",
   "metadata": {},
   "source": [
    "## Testing on SDNet"
   ]
  },
  {
   "cell_type": "markdown",
   "metadata": {},
   "source": [
    "### SDNet/D/CD: 2k images 'cracked'"
   ]
  },
  {
   "cell_type": "code",
   "execution_count": 4,
   "metadata": {},
   "outputs": [],
   "source": [
    "# Check 2000 files in the SDNet D/CD folder\n",
    "path = os.path.abspath('/home/becode/AI/Data/Skyebase/SDNet/D/CD')\n",
    "folder_path = path\n",
    "count = 0\n",
    "image_size = (224,224) # set size to 224x224, same as training\n",
    "file = []\n",
    "no_crack = []\n",
    "crack = []\n",
    "for path, dirs, files in os.walk(folder_path):\n",
    "    files.sort()\n",
    "    for filename in files:\n",
    "        if count < 2000:\n",
    "            src_file = os.path.join(path, filename)\n",
    "            img = keras.preprocessing.image.load_img( src_file, target_size=image_size)\n",
    "            img_array = keras.preprocessing.image.img_to_array(img)\n",
    "            img_array = tf.expand_dims(img_array, 0)  # Create batch axis\n",
    "\n",
    "            predictions = model.predict(img_array)\n",
    "            score = predictions[0]\n",
    "            score = score.item()\n",
    "            #print(\n",
    "            #    f\"{filename} is {round(100 * (1 - score),3)} percent uncracked and {round(100 * score,3)} percent cracked.\"\n",
    "            #)\n",
    "            \n",
    "            # fill lists for scores in DataFrame\n",
    "            file.append(filename)\n",
    "            no_crack.append(round(100*(1-score),3))\n",
    "            crack.append(round(100*score,3))\n",
    "            count += 1\n",
    "            \n",
    "# Dataframe with results per file in folder\n",
    "results = pd.DataFrame({'filename' : file , 'score no cracks' : no_crack, 'crack score': crack})\n",
    "results = results.to_csv('D-CD.csv')"
   ]
  },
  {
   "cell_type": "code",
   "execution_count": 5,
   "metadata": {},
   "outputs": [
    {
     "name": "stdout",
     "output_type": "stream",
     "text": [
      "Wrong: 73.9 %, right: 26.1 %\n"
     ]
    }
   ],
   "source": [
    "mean_nocrack = round(sum(no_crack) / len(no_crack),1)\n",
    "mean_crack = round(sum(crack) / len(crack),1)\n",
    "sum_acc = {}\n",
    "sum_acc['SDNet/D/CD'] = mean_crack\n",
    "print(f\"Wrong: {mean_nocrack} %, right: {mean_crack} %\")"
   ]
  },
  {
   "cell_type": "markdown",
   "metadata": {},
   "source": [
    "### SDNet/D/UD: 2k images 'uncracked'"
   ]
  },
  {
   "cell_type": "code",
   "execution_count": 6,
   "metadata": {},
   "outputs": [],
   "source": [
    "# Check 2000 files in the SDNet D/UD folder\n",
    "path = os.path.abspath('/home/becode/AI/Data/Skyebase/SDNet/D/UD')\n",
    "folder_path = path\n",
    "count = 0\n",
    "image_size = (224,224) # set size to 224x224, same as training\n",
    "for path, dirs, files in os.walk(folder_path):\n",
    "    files.sort()\n",
    "    for filename in files:\n",
    "        if count < 2000:\n",
    "            src_file = os.path.join(path, filename)\n",
    "            img = keras.preprocessing.image.load_img( src_file, target_size=image_size)\n",
    "            img_array = keras.preprocessing.image.img_to_array(img)\n",
    "            img_array = tf.expand_dims(img_array, 0)  # Create batch axis\n",
    "\n",
    "            predictions = model.predict(img_array)\n",
    "            score = predictions[0]\n",
    "            score = score.item()\n",
    "            #print(\n",
    "            #    f\"{filename} is {round(100 * (1 - score),3)} percent uncracked and {round(100 * score,3)} percent cracked.\"\n",
    "            #)\n",
    "            # fill lists for scores in DataFrame\n",
    "            file.append(filename)\n",
    "            no_crack.append(round(100*(1-score),3))\n",
    "            crack.append(round(100*score,3))\n",
    "            count += 1\n",
    "# Dataframe with results per file in folder\n",
    "results = pd.DataFrame({'filename' : file , 'score no cracks' : no_crack, 'crack score': crack})\n",
    "results = results.to_csv('D-UD.csv')"
   ]
  },
  {
   "cell_type": "code",
   "execution_count": 7,
   "metadata": {},
   "outputs": [
    {
     "name": "stdout",
     "output_type": "stream",
     "text": [
      "Wrong: 16.4 %, right: 83.6 %\n"
     ]
    }
   ],
   "source": [
    "mean_nocrack = round(sum(no_crack) / len(no_crack),1)\n",
    "mean_crack = round(sum(crack) / len(crack),1)\n",
    "sum_acc['SDNet/D/UD'] = mean_nocrack\n",
    "print(f\"Wrong: {mean_crack} %, right: {mean_nocrack} %\")"
   ]
  },
  {
   "cell_type": "markdown",
   "metadata": {},
   "source": [
    "### SDNet/P/CP: 2k images 'cracked'"
   ]
  },
  {
   "cell_type": "code",
   "execution_count": 8,
   "metadata": {},
   "outputs": [],
   "source": [
    "# Check 2000 files in the SDNet D/UD folder\n",
    "path = os.path.abspath('/home/becode/AI/Data/Skyebase/SDNet/P/CP')\n",
    "folder_path = path\n",
    "count = 0\n",
    "image_size = (224,224) # set size to 224x224, same as training\n",
    "\n",
    "for path, dirs, files in os.walk(folder_path):\n",
    "    files.sort()\n",
    "    for filename in files:\n",
    "        if count < 2000:\n",
    "            src_file = os.path.join(path, filename)\n",
    "            img = keras.preprocessing.image.load_img( src_file, target_size=image_size)\n",
    "            img_array = keras.preprocessing.image.img_to_array(img)\n",
    "            img_array = tf.expand_dims(img_array, 0)  # Create batch axis\n",
    "\n",
    "            predictions = model.predict(img_array)\n",
    "            score = predictions[0]\n",
    "            score = score.item()\n",
    "            #print(\n",
    "            #    f\"{filename} is {round(100 * (1 - score),3)} percent uncracked and {round(100 * score,3)} percent cracked.\"\n",
    "            #)\n",
    "            \n",
    "            # fill lists for scores in DataFrame\n",
    "            file.append(filename)\n",
    "            no_crack.append(round(100*(1-score),3))\n",
    "            crack.append(round(100*score,3))\n",
    "            count += 1\n",
    "# Dataframe with results per file in folder\n",
    "results = pd.DataFrame({'filename' : file , 'score no cracks' : no_crack, 'crack score': crack})\n",
    "results = results.to_csv('P-CP.csv')"
   ]
  },
  {
   "cell_type": "code",
   "execution_count": 9,
   "metadata": {},
   "outputs": [
    {
     "name": "stdout",
     "output_type": "stream",
     "text": [
      "Wrong: 60.7 %, right: 39.3 %\n"
     ]
    }
   ],
   "source": [
    "mean_nocrack = round(sum(no_crack) / len(no_crack),1)\n",
    "mean_crack = round(sum(crack) / len(crack),1)\n",
    "sum_acc['SDNet/P/CP'] = mean_crack\n",
    "print(f\"Wrong: {mean_nocrack} %, right: {mean_crack} %\")"
   ]
  },
  {
   "cell_type": "markdown",
   "metadata": {},
   "source": [
    "### SDNet/P/UP: 2k images 'uncracked'"
   ]
  },
  {
   "cell_type": "code",
   "execution_count": 10,
   "metadata": {},
   "outputs": [],
   "source": [
    "# Check 2000 files in the SDNet C/UP folder\n",
    "path = os.path.abspath('/home/becode/AI/Data/Skyebase/SDNet/P/UP')\n",
    "folder_path = path\n",
    "count = 0\n",
    "image_size = (224,224) # set size to 224x224, same as training\n",
    "for path, dirs, files in os.walk(folder_path):\n",
    "    files.sort()\n",
    "    for filename in files:\n",
    "        if count < 2000:\n",
    "            src_file = os.path.join(path, filename)\n",
    "            img = keras.preprocessing.image.load_img( src_file, target_size=image_size)\n",
    "            img_array = keras.preprocessing.image.img_to_array(img)\n",
    "            img_array = tf.expand_dims(img_array, 0)  # Create batch axis\n",
    "\n",
    "            predictions = model.predict(img_array)\n",
    "            score = predictions[0]\n",
    "            score = score.item()\n",
    "            #print(\n",
    "            #    f\"{filename} is {round(100 * (1 - score),3)} percent uncracked and {round(100 * score,3)} percent cracked.\"\n",
    "            #)\n",
    "            \n",
    "            # fill lists for scores in DataFrame\n",
    "            file.append(filename)\n",
    "            no_crack.append(round(100*(1-score),3))\n",
    "            crack.append(round(100*score,3))\n",
    "            count += 1\n",
    "# Dataframe with results per file in folder\n",
    "results = pd.DataFrame({'filename' : file , 'score no cracks' : no_crack, 'crack score': crack})\n",
    "results = results.to_csv('P-UP.csv')"
   ]
  },
  {
   "cell_type": "code",
   "execution_count": 11,
   "metadata": {},
   "outputs": [
    {
     "name": "stdout",
     "output_type": "stream",
     "text": [
      "Wrong: 45.5 %, right: 54.5 %\n"
     ]
    }
   ],
   "source": [
    "mean_nocrack = round(sum(no_crack) / len(no_crack),1)\n",
    "mean_crack = round(sum(crack) / len(crack),1)\n",
    "sum_acc['SDNet/P/UP'] = mean_nocrack\n",
    "print(f\"Wrong: {mean_crack} %, right: {mean_nocrack} %\")"
   ]
  },
  {
   "cell_type": "markdown",
   "metadata": {},
   "source": [
    "### SDNet/W/CW: 2k images 'cracked'"
   ]
  },
  {
   "cell_type": "code",
   "execution_count": 12,
   "metadata": {},
   "outputs": [],
   "source": [
    "# Check 2000 files in the SDNet C/UP folder\n",
    "path = os.path.abspath('/home/becode/AI/Data/Skyebase/SDNet/W/CW')\n",
    "folder_path = path\n",
    "count = 0\n",
    "image_size = (224,224) # set size to 224x224, same as training\n",
    "for path, dirs, files in os.walk(folder_path):\n",
    "    files.sort()\n",
    "    for filename in files:\n",
    "        if count < 2000:\n",
    "            src_file = os.path.join(path, filename)\n",
    "            img = keras.preprocessing.image.load_img( src_file, target_size=image_size)\n",
    "            img_array = keras.preprocessing.image.img_to_array(img)\n",
    "            img_array = tf.expand_dims(img_array, 0)  # Create batch axis\n",
    "\n",
    "            predictions = model.predict(img_array)\n",
    "            score = predictions[0]\n",
    "            score = score.item()\n",
    "            #print(\n",
    "            #    f\"{filename} is {round(100 * (1 - score),3)} percent uncracked and {round(100 * score,3)} percent cracked.\"\n",
    "            #)\n",
    "            \n",
    "            # fill lists for scores in DataFrame\n",
    "            file.append(filename)\n",
    "            no_crack.append(round(100*(1-score),3))\n",
    "            crack.append(round(100*score,3))\n",
    "            count += 1\n",
    "# Dataframe with results per file in folder\n",
    "results = pd.DataFrame({'filename' : file , 'score no cracks' : no_crack, 'crack score': crack})\n",
    "results = results.to_csv('W-CW.csv')"
   ]
  },
  {
   "cell_type": "code",
   "execution_count": 13,
   "metadata": {},
   "outputs": [
    {
     "name": "stdout",
     "output_type": "stream",
     "text": [
      "Wrong: 59.3 %, right: 40.7 %\n"
     ]
    }
   ],
   "source": [
    "mean_nocrack = round(sum(no_crack) / len(no_crack),1)\n",
    "mean_crack = round(sum(crack) / len(crack),1)\n",
    "sum_acc['SDNet/W/CW'] = mean_crack\n",
    "print(f\"Wrong: {mean_nocrack} %, right: {mean_crack} %\")"
   ]
  },
  {
   "cell_type": "markdown",
   "metadata": {},
   "source": [
    "### SDNet/W/UW: 2k images 'uncracked'"
   ]
  },
  {
   "cell_type": "code",
   "execution_count": 14,
   "metadata": {},
   "outputs": [],
   "source": [
    "# Check 2000 files in the SDNet C/UP folder\n",
    "path = os.path.abspath('/home/becode/AI/Data/Skyebase/SDNet/W/UW')\n",
    "folder_path = path\n",
    "count = 0\n",
    "image_size = (224,224) # set size to 224x224, same as training\n",
    "for path, dirs, files in os.walk(folder_path):\n",
    "    files.sort()\n",
    "    for filename in files:\n",
    "        if count < 2000:\n",
    "            src_file = os.path.join(path, filename)\n",
    "            img = keras.preprocessing.image.load_img( src_file, target_size=image_size)\n",
    "            img_array = keras.preprocessing.image.img_to_array(img)\n",
    "            img_array = tf.expand_dims(img_array, 0)  # Create batch axis\n",
    "\n",
    "            predictions = model.predict(img_array)\n",
    "            score = predictions[0]\n",
    "            score = score.item()\n",
    "            #print(\n",
    "            #    f\"{filename} is {round(100 * (1 - score),3)} percent uncracked and {round(100 * score,3)} percent cracked.\"\n",
    "            #)\n",
    "            \n",
    "            # fill lists for scores in DataFrame\n",
    "            file.append(filename)\n",
    "            no_crack.append(round(100*(1-score),3))\n",
    "            crack.append(round(100*score,3))\n",
    "            count += 1\n",
    "# Dataframe with results per file in folder\n",
    "results = pd.DataFrame({'filename' : file , 'score no cracks' : no_crack, 'crack score': crack})\n",
    "results = results.to_csv('W-UW.csv')"
   ]
  },
  {
   "cell_type": "code",
   "execution_count": 15,
   "metadata": {},
   "outputs": [
    {
     "name": "stdout",
     "output_type": "stream",
     "text": [
      "Wrong: 35.9 %, right: 64.1 %\n"
     ]
    }
   ],
   "source": [
    "mean_nocrack = round(sum(no_crack) / len(no_crack),1)\n",
    "mean_crack = round(sum(crack) / len(crack),1)\n",
    "sum_acc['SDNet/W/UW'] = mean_nocrack\n",
    "print(f\"Wrong: {mean_crack} %, right: {mean_nocrack} %\")"
   ]
  },
  {
   "cell_type": "markdown",
   "metadata": {},
   "source": [
    "## Testing on Skyebase 'positive' Data"
   ]
  },
  {
   "cell_type": "markdown",
   "metadata": {},
   "source": [
    "#### Skyebase is so high res and so different in size from training data that necessary rescaling/resizing can be problematic for accuracy"
   ]
  },
  {
   "cell_type": "markdown",
   "metadata": {},
   "source": [
    "### Skyebase/Positive/TB:  145 images 'cracked' or 'positive'"
   ]
  },
  {
   "cell_type": "code",
   "execution_count": 16,
   "metadata": {},
   "outputs": [],
   "source": [
    "# Check all files in the Skyebase NDA/Positive/TB folder\n",
    "path = os.path.abspath('/home/becode/AI/Data/Skyebase/Skyebase NDA/Positive/TB')\n",
    "folder_path = path\n",
    "image_size = (224,224) # set size to 224x224, same as training\n",
    "for path, dirs, files in os.walk(folder_path):\n",
    "    files.sort()\n",
    "    for filename in files:\n",
    "        if re.match('(.)+.jpg', filename):\n",
    "            src_file = os.path.join(path, filename)\n",
    "            img = keras.preprocessing.image.load_img( src_file, target_size=image_size)\n",
    "            img_array = keras.preprocessing.image.img_to_array(img)\n",
    "            img_array = tf.expand_dims(img_array, 0)  # Create batch axis\n",
    "\n",
    "            predictions = model.predict(img_array)\n",
    "            score = predictions[0]\n",
    "            score = score.item()\n",
    "            #print(\n",
    "            #    f\"{filename} is {round(100 * (1 - score),3)} percent uncracked and {round(100 * score,3)} percent cracked.\"\n",
    "            #)\n",
    "            \n",
    "            # fill lists for scores in DataFrame\n",
    "            file.append(filename)\n",
    "            no_crack.append(round(100*(1-score),3))\n",
    "            crack.append(round(100*score,3))\n",
    "            count += 1\n",
    "# Dataframe with results per file in folder\n",
    "results = pd.DataFrame({'filename' : file , 'score no cracks' : no_crack, 'crack score': crack})\n",
    "results = results.to_csv('Skye-Pos-TB.csv')"
   ]
  },
  {
   "cell_type": "code",
   "execution_count": 17,
   "metadata": {},
   "outputs": [
    {
     "name": "stdout",
     "output_type": "stream",
     "text": [
      "Wrong: 63.8 %, right: 36.2 %\n"
     ]
    }
   ],
   "source": [
    "mean_nocrack = round(sum(no_crack) / len(no_crack),1)\n",
    "mean_crack = round(sum(crack) / len(crack),1)\n",
    "sum_acc['Positive/TB'] = mean_crack\n",
    "print(f\"Wrong: {mean_nocrack} %, right: {mean_crack} %\")"
   ]
  },
  {
   "cell_type": "markdown",
   "metadata": {},
   "source": [
    "### Skyebase/Positive/NS:  685 images 'cracked' or 'positive'"
   ]
  },
  {
   "cell_type": "code",
   "execution_count": 18,
   "metadata": {},
   "outputs": [],
   "source": [
    "# Check all files in the Skyebase NDA/Positive/NS folder\n",
    "path = os.path.abspath('/home/becode/AI/Data/Skyebase/Skyebase NDA/Positive/NS')\n",
    "folder_path = path\n",
    "image_size = (224,224) # set size to 224x224, same as training\n",
    "for path, dirs, files in os.walk(folder_path):\n",
    "    files.sort()\n",
    "    for filename in files:\n",
    "        if re.match('(.)+.jpg', filename):\n",
    "            src_file = os.path.join(path, filename)\n",
    "            img = keras.preprocessing.image.load_img( src_file, target_size=image_size)\n",
    "            img_array = keras.preprocessing.image.img_to_array(img)\n",
    "            img_array = tf.expand_dims(img_array, 0)  # Create batch axis\n",
    "\n",
    "            predictions = model.predict(img_array)\n",
    "            score = predictions[0]\n",
    "            score = score.item()\n",
    "            #print(\n",
    "            #    f\"{filename} is {round(100 * (1 - score),3)} percent uncracked and {round(100 * score,3)} percent cracked.\"\n",
    "            #)\n",
    "            \n",
    "            # fill lists for scores in DataFrame\n",
    "            file.append(filename)\n",
    "            no_crack.append(round(100*(1-score),3))\n",
    "            crack.append(round(100*score,3))\n",
    "            count += 1\n",
    "# Dataframe with results per file in folder\n",
    "results = pd.DataFrame({'filename' : file , 'score no cracks' : no_crack, 'crack score': crack})\n",
    "results = results.to_csv('Skye-Pos-NS.csv')"
   ]
  },
  {
   "cell_type": "code",
   "execution_count": 19,
   "metadata": {},
   "outputs": [
    {
     "name": "stdout",
     "output_type": "stream",
     "text": [
      "Wrong: 60.9 %, right: 39.1 %\n"
     ]
    }
   ],
   "source": [
    "mean_nocrack = round(sum(no_crack) / len(no_crack),1)\n",
    "mean_crack = round(sum(crack) / len(crack),1)\n",
    "sum_acc['Positive/NS'] = mean_crack\n",
    "print(f\"Wrong: {mean_nocrack} %, right: {mean_crack} %\")"
   ]
  },
  {
   "cell_type": "markdown",
   "metadata": {},
   "source": [
    "### Summary"
   ]
  },
  {
   "cell_type": "code",
   "execution_count": 20,
   "metadata": {},
   "outputs": [
    {
     "data": {
      "image/png": "[encoded data removed]",
      "text/plain": [
       "<Figure size 576x576 with 1 Axes>"
      ]
     },
     "metadata": {
      "needs_background": "light"
     },
     "output_type": "display_data"
    }
   ],
   "source": [
    "x=np.arange(8)\n",
    "plt.figure(figsize=(8,8))\n",
    "plt.bar(x, height = sum_acc.values())\n",
    "plt.xticks(x,sum_acc.keys(), rotation='vertical')\n",
    "plt.ylabel('Accuracy[%]')\n",
    "plt.show()"
   ]
  }
 ],
 "metadata": {
  "kernelspec": {
   "display_name": "skyebase",
   "language": "python",
   "name": "skyebase"
  },
  "language_info": {
   "codemirror_mode": {
    "name": "ipython",
    "version": 3
   },
   "file_extension": ".py",
   "mimetype": "text/x-python",
   "name": "python",
   "nbconvert_exporter": "python",
   "pygments_lexer": "ipython3",
   "version": "3.8.5"
  }
 },
 "nbformat": 4,
 "nbformat_minor": 4
}
