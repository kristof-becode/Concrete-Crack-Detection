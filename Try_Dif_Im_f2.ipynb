{
 "cells": [
  {
   "cell_type": "code",
   "execution_count": null,
   "metadata": {},
   "outputs": [],
   "source": [
    "import numpy as np\n",
    "import cv2 as cv\n",
    "import matplotlib.pyplot as plt\n",
    "import os"
   ]
  },
  {
   "cell_type": "code",
   "execution_count": null,
   "metadata": {
    "scrolled": false
   },
   "outputs": [],
   "source": [
    "# Check files in Kaggle folders\n",
    "path = os.path.abspath('/home/becode/AI/Data/Skyebase/OpenSource/Negative')\n",
    "folder_path = path\n",
    "count = 0\n",
    "for path, dirs, files in os.walk(folder_path):\n",
    "    files.sort()\n",
    "    for filename in files:\n",
    "        if count < 200:\n",
    "            name = os.path.join(folder_path,filename)\n",
    "            imgUnchanged2 = cv.imread(name,-1) \n",
    "            grayed2 = cv.cvtColor(imgUnchanged2, cv.COLOR_BGR2GRAY)\n",
    "            blur = cv.GaussianBlur(grayed2,(5,5),0) # kernelsize tuple must be odd and positive\n",
    "            ret,th = cv.threshold(grayed2,0,255,cv.THRESH_BINARY_INV+cv.THRESH_OTSU)\n",
    "            plt.figure(figsize=(30,30))\n",
    "            plt.subplot(141),plt.imshow(imgUnchanged2,cmap = 'gray')\n",
    "            plt.title('Original Image'), plt.xticks([]), plt.yticks([])\n",
    "            plt.subplot(142),plt.imshow(grayed2, cmap = 'gray', interpolation = 'bicubic')\n",
    "            plt.title('Grayed Image'), plt.xticks([]), plt.yticks([])\n",
    "            plt.subplot(143),plt.imshow(blur, cmap = 'gray', interpolation = 'bicubic')\n",
    "            plt.title('Gaussian Blur Image'), plt.xticks([]), plt.yticks([])\n",
    "            plt.subplot(144),plt.imshow(th, cmap = 'gray', interpolation = 'bicubic')\n",
    "            plt.title('Treshold Otsu'), plt.xticks([]), plt.yticks([])\n",
    "            plt.show()\n",
    "            count+=1"
   ]
  },
  {
   "cell_type": "code",
   "execution_count": null,
   "metadata": {
    "scrolled": false
   },
   "outputs": [],
   "source": [
    "# Check files in Kaggle folders\n",
    "path = os.path.abspath('/home/becode/AI/Data/Skyebase/OpenSource/Positive')\n",
    "folder_path = path\n",
    "count = 0\n",
    "for path, dirs, files in os.walk(folder_path):\n",
    "    files.sort()\n",
    "    for filename in files:\n",
    "        if count < 200:\n",
    "            name = os.path.join(folder_path,filename)\n",
    "            imgUnchanged2 = cv.imread(name,-1) \n",
    "            grayed2 = cv.cvtColor(imgUnchanged2, cv.COLOR_BGR2GRAY)\n",
    "            blur = cv.GaussianBlur(grayed2,(5,5),0) # kernelsize tuple must be odd and positive\n",
    "            ret,th = cv.threshold(grayed2,0,255,cv.THRESH_BINARY_INV+cv.THRESH_OTSU)\n",
    "            plt.figure(figsize=(30,30))\n",
    "            plt.subplot(141),plt.imshow(imgUnchanged2,cmap = 'gray')\n",
    "            plt.title('Original Image'), plt.xticks([]), plt.yticks([])\n",
    "            plt.subplot(142),plt.imshow(grayed2, cmap = 'gray', interpolation = 'bicubic')\n",
    "            plt.title('Grayed Image'), plt.xticks([]), plt.yticks([])\n",
    "            plt.subplot(143),plt.imshow(blur, cmap = 'gray', interpolation = 'bicubic')\n",
    "            plt.title('Gaussian Blur Image'), plt.xticks([]), plt.yticks([])\n",
    "            plt.subplot(144),plt.imshow(th, cmap = 'gray', interpolation = 'bicubic')\n",
    "            plt.title('Treshold Otsu'), plt.xticks([]), plt.yticks([])\n",
    "            plt.show()\n",
    "            count+=1"
   ]
  },
  {
   "cell_type": "code",
   "execution_count": null,
   "metadata": {
    "scrolled": false
   },
   "outputs": [],
   "source": [
    "# Check files in SDNET folders\n",
    "path = os.path.abspath('/home/becode/AI/Data/Skyebase/SDNet/D/CD')\n",
    "folder_path = path\n",
    "count = 0\n",
    "for path, dirs, files in os.walk(folder_path):\n",
    "    files.sort()\n",
    "    for filename in files:\n",
    "        if count < 100:\n",
    "            name = os.path.join(folder_path,filename)\n",
    "            imgUnchanged2 = cv.imread(name,-1) \n",
    "            grayed2 = cv.cvtColor(imgUnchanged2, cv.COLOR_BGR2GRAY)\n",
    "            blur = cv.GaussianBlur(grayed2,(5,5),0) # kernelsize tuple must be odd and positive\n",
    "            ret,th = cv.threshold(grayed2,0,255,cv.THRESH_BINARY_INV+cv.THRESH_OTSU)\n",
    "            plt.figure(figsize=(30,30))\n",
    "            plt.subplot(141),plt.imshow(imgUnchanged2,cmap = 'gray')\n",
    "            plt.title('Original Image'), plt.xticks([]), plt.yticks([])\n",
    "            plt.subplot(142),plt.imshow(grayed2, cmap = 'gray', interpolation = 'bicubic')\n",
    "            plt.title('Grayed Image'), plt.xticks([]), plt.yticks([])\n",
    "            plt.subplot(143),plt.imshow(blur, cmap = 'gray', interpolation = 'bicubic')\n",
    "            plt.title('Gaussian Blur Image'), plt.xticks([]), plt.yticks([])\n",
    "            plt.subplot(144),plt.imshow(th, cmap = 'gray', interpolation = 'bicubic')\n",
    "            plt.title('Treshold Otsu'), plt.xticks([]), plt.yticks([])\n",
    "            plt.show()\n",
    "            count+=1"
   ]
  },
  {
   "cell_type": "code",
   "execution_count": null,
   "metadata": {
    "scrolled": false
   },
   "outputs": [],
   "source": [
    "# Check files in SDNET folders\n",
    "path = os.path.abspath('/home/becode/AI/Data/Skyebase/SDNet/D/UD')\n",
    "folder_path = path\n",
    "count = 0\n",
    "for path, dirs, files in os.walk(folder_path):\n",
    "    files.sort()\n",
    "    for filename in files:\n",
    "        if count < 100:\n",
    "            name = os.path.join(folder_path,filename)\n",
    "            imgUnchanged2 = cv.imread(name,-1) \n",
    "            grayed2 = cv.cvtColor(imgUnchanged2, cv.COLOR_BGR2GRAY)\n",
    "            blur = cv.GaussianBlur(grayed2,(5,5),0) # kernelsize tuple must be odd and positive\n",
    "            ret,th = cv.threshold(grayed2,0,255,cv.THRESH_BINARY_INV+cv.THRESH_OTSU)\n",
    "            plt.figure(figsize=(30,30))\n",
    "            plt.subplot(141),plt.imshow(imgUnchanged2,cmap = 'gray')\n",
    "            plt.title('Original Image'), plt.xticks([]), plt.yticks([])\n",
    "            plt.subplot(142),plt.imshow(grayed2, cmap = 'gray', interpolation = 'bicubic')\n",
    "            plt.title('Grayed Image'), plt.xticks([]), plt.yticks([])\n",
    "            plt.subplot(143),plt.imshow(blur, cmap = 'gray', interpolation = 'bicubic')\n",
    "            plt.title('Gaussian Blur Image'), plt.xticks([]), plt.yticks([])\n",
    "            plt.subplot(144),plt.imshow(th, cmap = 'gray', interpolation = 'bicubic')\n",
    "            plt.title('Treshold Otsu'), plt.xticks([]), plt.yticks([])\n",
    "            plt.show()\n",
    "            count+=1"
   ]
  },
  {
   "cell_type": "code",
   "execution_count": null,
   "metadata": {
    "scrolled": false
   },
   "outputs": [],
   "source": [
    "# Check files in SDNET folders\n",
    "path = os.path.abspath('/home/becode/AI/Data/Skyebase/SDNet/P/CP')\n",
    "folder_path = path\n",
    "count = 0\n",
    "for path, dirs, files in os.walk(folder_path):\n",
    "    files.sort()\n",
    "    for filename in files:\n",
    "        if count < 100:\n",
    "            name = os.path.join(folder_path,filename)\n",
    "            imgUnchanged2 = cv.imread(name,-1) \n",
    "            grayed2 = cv.cvtColor(imgUnchanged2, cv.COLOR_BGR2GRAY)\n",
    "            blur = cv.GaussianBlur(grayed2,(5,5),0) # kernelsize tuple must be odd and positive\n",
    "            ret,th = cv.threshold(grayed2,0,255,cv.THRESH_BINARY_INV+cv.THRESH_OTSU)\n",
    "            plt.figure(figsize=(30,30))\n",
    "            plt.subplot(141),plt.imshow(imgUnchanged2,cmap = 'gray')\n",
    "            plt.title('Original Image'), plt.xticks([]), plt.yticks([])\n",
    "            plt.subplot(142),plt.imshow(grayed2, cmap = 'gray', interpolation = 'bicubic')\n",
    "            plt.title('Grayed Image'), plt.xticks([]), plt.yticks([])\n",
    "            plt.subplot(143),plt.imshow(blur, cmap = 'gray', interpolation = 'bicubic')\n",
    "            plt.title('Gaussian Blur Image'), plt.xticks([]), plt.yticks([])\n",
    "            plt.subplot(144),plt.imshow(th, cmap = 'gray', interpolation = 'bicubic')\n",
    "            plt.title('Treshold Otsu'), plt.xticks([]), plt.yticks([])\n",
    "            plt.show()\n",
    "            count+=1"
   ]
  },
  {
   "cell_type": "code",
   "execution_count": null,
   "metadata": {
    "scrolled": false
   },
   "outputs": [],
   "source": [
    "# Check files in SDNET folders\n",
    "path = os.path.abspath('/home/becode/AI/Data/Skyebase/SDNet/P/UP')\n",
    "folder_path = path\n",
    "count = 0\n",
    "for path, dirs, files in os.walk(folder_path):\n",
    "    files.sort()\n",
    "    for filename in files:\n",
    "        if count < 100:\n",
    "            name = os.path.join(folder_path,filename)\n",
    "            imgUnchanged2 = cv.imread(name,-1) \n",
    "            grayed2 = cv.cvtColor(imgUnchanged2, cv.COLOR_BGR2GRAY)\n",
    "            blur = cv.GaussianBlur(grayed2,(5,5),0) # kernelsize tuple must be odd and positive\n",
    "            ret,th = cv.threshold(grayed2,0,255,cv.THRESH_BINARY_INV+cv.THRESH_OTSU)\n",
    "            plt.figure(figsize=(30,30))\n",
    "            plt.subplot(141),plt.imshow(imgUnchanged2,cmap = 'gray')\n",
    "            plt.title('Original Image'), plt.xticks([]), plt.yticks([])\n",
    "            plt.subplot(142),plt.imshow(grayed2, cmap = 'gray', interpolation = 'bicubic')\n",
    "            plt.title('Grayed Image'), plt.xticks([]), plt.yticks([])\n",
    "            plt.subplot(143),plt.imshow(blur, cmap = 'gray', interpolation = 'bicubic')\n",
    "            plt.title('Gaussian Blur Image'), plt.xticks([]), plt.yticks([])\n",
    "            plt.subplot(144),plt.imshow(th, cmap = 'gray', interpolation = 'bicubic')\n",
    "            plt.title('Treshold Otsu'), plt.xticks([]), plt.yticks([])\n",
    "            plt.show()\n",
    "            count+=1"
   ]
  },
  {
   "cell_type": "code",
   "execution_count": null,
   "metadata": {
    "scrolled": false
   },
   "outputs": [],
   "source": [
    "# Check files in SDNET folders\n",
    "path = os.path.abspath('/home/becode/AI/Data/Skyebase/SDNet/W/CW')\n",
    "folder_path = path\n",
    "count = 0\n",
    "for path, dirs, files in os.walk(folder_path):\n",
    "    files.sort()\n",
    "    for filename in files:\n",
    "        if count < 100:\n",
    "            name = os.path.join(folder_path,filename)\n",
    "            imgUnchanged2 = cv.imread(name,-1) \n",
    "            grayed2 = cv.cvtColor(imgUnchanged2, cv.COLOR_BGR2GRAY)\n",
    "            blur = cv.GaussianBlur(grayed2,(5,5),0) # kernelsize tuple must be odd and positive\n",
    "            ret,th = cv.threshold(grayed2,0,255,cv.THRESH_BINARY_INV+cv.THRESH_OTSU)\n",
    "            plt.figure(figsize=(30,30))\n",
    "            plt.subplot(141),plt.imshow(imgUnchanged2,cmap = 'gray')\n",
    "            plt.title('Original Image'), plt.xticks([]), plt.yticks([])\n",
    "            plt.subplot(142),plt.imshow(grayed2, cmap = 'gray', interpolation = 'bicubic')\n",
    "            plt.title('Grayed Image'), plt.xticks([]), plt.yticks([])\n",
    "            plt.subplot(143),plt.imshow(blur, cmap = 'gray', interpolation = 'bicubic')\n",
    "            plt.title('Gaussian Blur Image'), plt.xticks([]), plt.yticks([])\n",
    "            plt.subplot(144),plt.imshow(th, cmap = 'gray', interpolation = 'bicubic')\n",
    "            plt.title('Treshold Otsu'), plt.xticks([]), plt.yticks([])\n",
    "            plt.show()\n",
    "            count+=1"
   ]
  },
  {
   "cell_type": "code",
   "execution_count": null,
   "metadata": {
    "scrolled": false
   },
   "outputs": [],
   "source": [
    "# Check files in SDNET folders\n",
    "path = os.path.abspath('/home/becode/AI/Data/Skyebase/SDNet/W/UW')\n",
    "folder_path = path\n",
    "count = 0\n",
    "for path, dirs, files in os.walk(folder_path):\n",
    "    files.sort()\n",
    "    for filename in files:\n",
    "        if count < 100:\n",
    "            name = os.path.join(folder_path,filename)\n",
    "            imgUnchanged2 = cv.imread(name,-1) \n",
    "            grayed2 = cv.cvtColor(imgUnchanged2, cv.COLOR_BGR2GRAY)\n",
    "            blur = cv.GaussianBlur(grayed2,(5,5),0) # kernelsize tuple must be odd and positive\n",
    "            ret,th = cv.threshold(grayed2,0,255,cv.THRESH_BINARY_INV+cv.THRESH_OTSU)\n",
    "            plt.figure(figsize=(30,30))\n",
    "            plt.subplot(141),plt.imshow(imgUnchanged2,cmap = 'gray')\n",
    "            plt.title('Original Image'), plt.xticks([]), plt.yticks([])\n",
    "            plt.subplot(142),plt.imshow(grayed2, cmap = 'gray', interpolation = 'bicubic')\n",
    "            plt.title('Grayed Image'), plt.xticks([]), plt.yticks([])\n",
    "            plt.subplot(143),plt.imshow(blur, cmap = 'gray', interpolation = 'bicubic')\n",
    "            plt.title('Gaussian Blur Image'), plt.xticks([]), plt.yticks([])\n",
    "            plt.subplot(144),plt.imshow(th, cmap = 'gray', interpolation = 'bicubic')\n",
    "            plt.title('Treshold Otsu'), plt.xticks([]), plt.yticks([])\n",
    "            plt.show()\n",
    "            count+=1"
   ]
  },
  {
   "cell_type": "code",
   "execution_count": null,
   "metadata": {},
   "outputs": [],
   "source": [
    "# Check files in SDNET folders\n",
    "path = os.path.abspath('/home/becode/AI/Data/Skyebase/Skyebase NDA/Positive/TB')\n",
    "folder_path = path\n",
    "count = 0\n",
    "for path, dirs, files in os.walk(folder_path):\n",
    "    files.sort()\n",
    "    for filename in files:\n",
    "        if count < 100:\n",
    "            name = os.path.join(folder_path,filename)\n",
    "            imgUnchanged2 = cv.imread(name,-1) \n",
    "            grayed2 = cv.cvtColor(imgUnchanged2, cv.COLOR_BGR2GRAY)\n",
    "            blur = cv.GaussianBlur(grayed2,(5,5),0) # kernelsize tuple must be odd and positive\n",
    "            ret,th = cv.threshold(grayed2,0,255,cv.THRESH_BINARY_INV+cv.THRESH_OTSU)\n",
    "            plt.figure(figsize=(30,30))\n",
    "            plt.subplot(141),plt.imshow(imgUnchanged2,cmap = 'gray')\n",
    "            plt.title('Original Image'), plt.xticks([]), plt.yticks([])\n",
    "            plt.subplot(142),plt.imshow(grayed2, cmap = 'gray', interpolation = 'bicubic')\n",
    "            plt.title('Grayed Image'), plt.xticks([]), plt.yticks([])\n",
    "            plt.subplot(143),plt.imshow(blur, cmap = 'gray', interpolation = 'bicubic')\n",
    "            plt.title('Gaussian Blur Image'), plt.xticks([]), plt.yticks([])\n",
    "            plt.subplot(144),plt.imshow(th, cmap = 'gray', interpolation = 'bicubic')\n",
    "            plt.title('Treshold Otsu'), plt.xticks([]), plt.yticks([])\n",
    "            plt.show()\n",
    "            count+=1"
   ]
  },
  {
   "cell_type": "code",
   "execution_count": null,
   "metadata": {},
   "outputs": [],
   "source": []
  }
 ],
 "metadata": {
  "kernelspec": {
   "display_name": "skyebase",
   "language": "python",
   "name": "skyebase"
  },
  "language_info": {
   "codemirror_mode": {
    "name": "ipython",
    "version": 3
   },
   "file_extension": ".py",
   "mimetype": "text/x-python",
   "name": "python",
   "nbconvert_exporter": "python",
   "pygments_lexer": "ipython3",
   "version": "3.8.5"
  }
 },
 "nbformat": 4,
 "nbformat_minor": 4
}
