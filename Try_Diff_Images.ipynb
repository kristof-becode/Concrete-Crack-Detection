{
 "cells": [
  {
   "cell_type": "code",
   "execution_count": 1,
   "metadata": {},
   "outputs": [],
   "source": [
    "import numpy as np\n",
    "import cv2 as cv\n",
    "import matplotlib.pyplot as plt"
   ]
  },
  {
   "cell_type": "markdown",
   "metadata": {},
   "source": [
    "### Try preprocessing on different images"
   ]
  },
  {
   "cell_type": "markdown",
   "metadata": {},
   "source": [
    "#### Read and convert to gray scale"
   ]
  },
  {
   "cell_type": "code",
   "execution_count": 9,
   "metadata": {},
   "outputs": [],
   "source": [
    "# Otsu's thresholding after Gaussian filtering\n",
    "imgUnchanged1 = cv.imread('/home/becode/AI/Data/Skyebase/OpenSource/Positive/00097.jpg',-1) \n",
    "grayed1 = cv.cvtColor(imgUnchanged1, cv.COLOR_BGR2GRAY)\n",
    "\n",
    "imgUnchanged2 = cv.imread('/home/becode/AI/Data/Skyebase/OpenSource/Positive/00097.jpg',-1) \n",
    "grayed2 = cv.cvtColor(imgUnchanged2, cv.COLOR_BGR2GRAY)\n",
    "\n",
    "imgUnchanged3 = cv.imread('/home/becode/AI/Data/Skyebase/OpenSource/Positive/00097.jpg',-1) \n",
    "grayed3 = cv.cvtColor(imgUnchanged3, cv.COLOR_BGR2GRAY)\n",
    "                      \n",
    "grayed = [grayed1, grayed2, grayed3]"
   ]
  },
  {
   "cell_type": "markdown",
   "metadata": {},
   "source": [
    "#### Guassian filter"
   ]
  },
  {
   "cell_type": "code",
   "execution_count": 16,
   "metadata": {},
   "outputs": [
    {
     "ename": "SyntaxError",
     "evalue": "invalid syntax (<ipython-input-16-4325ac182efb>, line 11)",
     "output_type": "error",
     "traceback": [
      "\u001b[0;36m  File \u001b[0;32m\"<ipython-input-16-4325ac182efb>\"\u001b[0;36m, line \u001b[0;32m11\u001b[0m\n\u001b[0;31m    plt.subplot(132),plt.imshow(blur2,cmap = 'gray')\u001b[0m\n\u001b[0m    ^\u001b[0m\n\u001b[0;31mSyntaxError\u001b[0m\u001b[0;31m:\u001b[0m invalid syntax\n"
     ]
    }
   ],
   "source": [
    "# Guassian blur followed by binary treshold => too high a kernel size might mean I miss finer cracks \n",
    "# but gives a smoother crack section\n",
    "for i, item in enumerate(grayed):\n",
    "    #print(i, item)\n",
    "    blur = cv.GaussianBlur(grayed[i],(5,5),0) # kernelsize tuple must be odd and positive\n",
    "    blur2 = cv.GaussianBlur(grayed[i],(21,21),0) # kernelsize tuple must be odd and positive\n",
    "\n",
    "    ### USE AXES for this !!!!\n",
    "    \n",
    "    #plt.figure(figsize=(10,10))\n",
    "    plt.subplot(131),plt.imshow(blur,cmap = 'gray')\n",
    "    plt.title('Gaussian blur Image', plt.xticks([]), plt.yticks([])\n",
    "    plt.subplot(132),plt.imshow(blur2,cmap = 'gray')\n",
    "    plt.title('Gaussian blur diff tresh',plt.xticks([]), plt.yticks([])\n",
    "\n",
    "    plt.show()"
   ]
  },
  {
   "cell_type": "code",
   "execution_count": null,
   "metadata": {},
   "outputs": [],
   "source": []
  },
  {
   "cell_type": "markdown",
   "metadata": {},
   "source": [
    "#### Binary treshold with Otsu "
   ]
  },
  {
   "cell_type": "code",
   "execution_count": null,
   "metadata": {},
   "outputs": [],
   "source": [
    "for xxxx\n",
    "\n",
    "    ret4,th4 = cv.threshold(blur2,0,255,cv.THRESH_BINARY_INV+cv.THRESH_OTSU)\n",
    "    plt.imshow(th4, cmap = 'gray', interpolation = 'bicubic')\n",
    "    plt.xticks([]), plt.yticks([])  # hide tick values on X and Y axis\n",
    "    plt.show()\n"
   ]
  },
  {
   "cell_type": "markdown",
   "metadata": {},
   "source": [
    "#### Canny Edge (not necessary after clean cracks after Binary Otsu)"
   ]
  },
  {
   "cell_type": "code",
   "execution_count": null,
   "metadata": {},
   "outputs": [],
   "source": [
    "for xxx\n",
    "    edges = cv.Canny(th4,100,200,apertureSize =7)\n",
    "\n",
    "    plt.imshow(edges,cmap = 'gray', interpolation = 'bicubic')\n",
    "    plt.xticks([]), plt.yticks([])  # hide tick values on X and Y axis\n",
    "    plt.show()"
   ]
  },
  {
   "cell_type": "markdown",
   "metadata": {},
   "source": [
    "#### Find contours and draw bounding boxes"
   ]
  },
  {
   "cell_type": "code",
   "execution_count": null,
   "metadata": {},
   "outputs": [],
   "source": [
    "for xxx\n",
    "\n",
    "    # Approximate contours to polygons + get bounding rects and circles\n",
    "    contours_poly = [None]*len(contours)\n",
    "    boundRect = [None]*len(contours)\n",
    "    centers = [None]*len(contours)\n",
    "    radius = [None]*len(contours)\n",
    "    for i, c in enumerate(contours):\n",
    "        contours_poly[i] = cv.approxPolyDP(c, 3, True) # cv.approxPolyDP(contour, epsilon, True)\n",
    "        boundRect[i] = cv.boundingRect(contours_poly[i])\n",
    "        centers[i], radius[i] = cv.minEnclosingCircle(contours_poly[i])\n",
    "\n",
    "    drawing = np.zeros((edges.shape[0], edges.shape[1], 3), dtype=np.uint8)\n",
    "\n",
    "    # Draw polygonal contour + bounding rectangles\n",
    "    import random\n",
    "    for i in range(len(contours)):\n",
    "        color = (random.randint(0,256), random.randint(0,256), random.randint(0,256))\n",
    "        cv.drawContours(drawing, contours_poly, i, color)\n",
    "        cv.rectangle(drawing, (int(boundRect[i][0]), int(boundRect[i][1])), \\\n",
    "         (int(boundRect[i][0]+boundRect[i][2]), int(boundRect[i][1]+boundRect[i][3])), color, 2)\n",
    "\n",
    "    plt.figure(figsize=(8,8))\n",
    "    plt.imshow(drawing,cmap = 'gray', interpolation = 'bicubic') \n",
    "    plt.xticks([]), plt.yticks([])  # hide tick values on X and Y axis\n",
    "    plt.show()"
   ]
  }
 ],
 "metadata": {
  "kernelspec": {
   "display_name": "skyebase",
   "language": "python",
   "name": "skyebase"
  },
  "language_info": {
   "codemirror_mode": {
    "name": "ipython",
    "version": 3
   },
   "file_extension": ".py",
   "mimetype": "text/x-python",
   "name": "python",
   "nbconvert_exporter": "python",
   "pygments_lexer": "ipython3",
   "version": "3.8.5"
  }
 },
 "nbformat": 4,
 "nbformat_minor": 4
}
